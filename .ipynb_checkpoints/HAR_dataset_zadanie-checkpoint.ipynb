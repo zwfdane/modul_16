{
 "cells": [
  {
   "cell_type": "code",
   "execution_count": 1,
   "id": "4842aeb1",
   "metadata": {},
   "outputs": [],
   "source": [
    "import random \n",
    "from sklearn.preprocessing import StandardScaler\n",
    "from IPython.display import display\n",
    "from sklearn.cluster import KMeans \n",
    "from sklearn.decomposition import PCA\n",
    "from mpl_toolkits.mplot3d import Axes3D\n",
    "import seaborn as sns \n",
    "import matplotlib.pyplot as plt  \n",
    "import warnings            \n",
    "warnings.filterwarnings(\"ignore\") "
   ]
  },
  {
   "cell_type": "code",
   "execution_count": 2,
   "id": "52304219",
   "metadata": {},
   "outputs": [
    {
     "name": "stdout",
     "output_type": "stream",
     "text": [
      "(7767, 562) (3162, 562)\n"
     ]
    }
   ],
   "source": [
    "import pandas as pd\n",
    "# pełny zbiór danych\n",
    "train = pd.read_csv('train_X.csv')\n",
    "test = pd.read_csv('test_X.csv')\n",
    "print(train.shape, test.shape)"
   ]
  },
  {
   "cell_type": "code",
   "execution_count": 4,
   "id": "ade184a9",
   "metadata": {},
   "outputs": [
    {
     "name": "stdout",
     "output_type": "stream",
     "text": [
      "1 WALKING           \n",
      "2 WALKING_UPSTAIRS  \n",
      "3 WALKING_DOWNSTAIRS\n",
      "4 SITTING           \n",
      "5 STANDING          \n",
      "6 LAYING            \n",
      "7 STAND_TO_SIT      \n",
      "8 SIT_TO_STAND      \n",
      "9 SIT_TO_LIE        \n",
      "10 LIE_TO_SIT        \n",
      "11 STAND_TO_LIE      \n",
      "12 LIE_TO_STAND   \n"
     ]
    }
   ],
   "source": [
    "file=open(\"activity_labels.txt\")\n",
    "print(file.read())\n",
    "file.close()\n"
   ]
  },
  {
   "cell_type": "code",
   "execution_count": 5,
   "id": "c763c96b",
   "metadata": {},
   "outputs": [],
   "source": [
    "x_train = train\n",
    "x_test = test"
   ]
  },
  {
   "cell_type": "code",
   "execution_count": 6,
   "id": "e957a6ba",
   "metadata": {},
   "outputs": [
    {
     "data": {
      "text/html": [
       "<div>\n",
       "<style scoped>\n",
       "    .dataframe tbody tr th:only-of-type {\n",
       "        vertical-align: middle;\n",
       "    }\n",
       "\n",
       "    .dataframe tbody tr th {\n",
       "        vertical-align: top;\n",
       "    }\n",
       "\n",
       "    .dataframe thead th {\n",
       "        text-align: right;\n",
       "    }\n",
       "</style>\n",
       "<table border=\"1\" class=\"dataframe\">\n",
       "  <thead>\n",
       "    <tr style=\"text-align: right;\">\n",
       "      <th></th>\n",
       "      <th>Unnamed: 0</th>\n",
       "      <th>activity</th>\n",
       "    </tr>\n",
       "  </thead>\n",
       "  <tbody>\n",
       "    <tr>\n",
       "      <th>0</th>\n",
       "      <td>0</td>\n",
       "      <td>5</td>\n",
       "    </tr>\n",
       "    <tr>\n",
       "      <th>1</th>\n",
       "      <td>1</td>\n",
       "      <td>5</td>\n",
       "    </tr>\n",
       "    <tr>\n",
       "      <th>2</th>\n",
       "      <td>2</td>\n",
       "      <td>5</td>\n",
       "    </tr>\n",
       "    <tr>\n",
       "      <th>3</th>\n",
       "      <td>3</td>\n",
       "      <td>5</td>\n",
       "    </tr>\n",
       "    <tr>\n",
       "      <th>4</th>\n",
       "      <td>4</td>\n",
       "      <td>5</td>\n",
       "    </tr>\n",
       "    <tr>\n",
       "      <th>...</th>\n",
       "      <td>...</td>\n",
       "      <td>...</td>\n",
       "    </tr>\n",
       "    <tr>\n",
       "      <th>7762</th>\n",
       "      <td>7762</td>\n",
       "      <td>2</td>\n",
       "    </tr>\n",
       "    <tr>\n",
       "      <th>7763</th>\n",
       "      <td>7763</td>\n",
       "      <td>2</td>\n",
       "    </tr>\n",
       "    <tr>\n",
       "      <th>7764</th>\n",
       "      <td>7764</td>\n",
       "      <td>2</td>\n",
       "    </tr>\n",
       "    <tr>\n",
       "      <th>7765</th>\n",
       "      <td>7765</td>\n",
       "      <td>2</td>\n",
       "    </tr>\n",
       "    <tr>\n",
       "      <th>7766</th>\n",
       "      <td>7766</td>\n",
       "      <td>2</td>\n",
       "    </tr>\n",
       "  </tbody>\n",
       "</table>\n",
       "<p>7767 rows × 2 columns</p>\n",
       "</div>"
      ],
      "text/plain": [
       "      Unnamed: 0  activity\n",
       "0              0         5\n",
       "1              1         5\n",
       "2              2         5\n",
       "3              3         5\n",
       "4              4         5\n",
       "...          ...       ...\n",
       "7762        7762         2\n",
       "7763        7763         2\n",
       "7764        7764         2\n",
       "7765        7765         2\n",
       "7766        7766         2\n",
       "\n",
       "[7767 rows x 2 columns]"
      ]
     },
     "execution_count": 6,
     "metadata": {},
     "output_type": "execute_result"
    }
   ],
   "source": [
    "# dane tylko dotyczące aktywności - aktywności zakodowane liczbowo\n",
    "y_train = pd.read_csv('train_Y.csv')\n",
    "y_train"
   ]
  },
  {
   "cell_type": "code",
   "execution_count": 7,
   "id": "60aa5e84",
   "metadata": {},
   "outputs": [
    {
     "data": {
      "text/html": [
       "<div>\n",
       "<style scoped>\n",
       "    .dataframe tbody tr th:only-of-type {\n",
       "        vertical-align: middle;\n",
       "    }\n",
       "\n",
       "    .dataframe tbody tr th {\n",
       "        vertical-align: top;\n",
       "    }\n",
       "\n",
       "    .dataframe thead th {\n",
       "        text-align: right;\n",
       "    }\n",
       "</style>\n",
       "<table border=\"1\" class=\"dataframe\">\n",
       "  <thead>\n",
       "    <tr style=\"text-align: right;\">\n",
       "      <th></th>\n",
       "      <th>Unnamed: 0</th>\n",
       "      <th>activity</th>\n",
       "    </tr>\n",
       "  </thead>\n",
       "  <tbody>\n",
       "    <tr>\n",
       "      <th>0</th>\n",
       "      <td>0</td>\n",
       "      <td>5</td>\n",
       "    </tr>\n",
       "    <tr>\n",
       "      <th>1</th>\n",
       "      <td>1</td>\n",
       "      <td>5</td>\n",
       "    </tr>\n",
       "    <tr>\n",
       "      <th>2</th>\n",
       "      <td>2</td>\n",
       "      <td>5</td>\n",
       "    </tr>\n",
       "    <tr>\n",
       "      <th>3</th>\n",
       "      <td>3</td>\n",
       "      <td>5</td>\n",
       "    </tr>\n",
       "    <tr>\n",
       "      <th>4</th>\n",
       "      <td>4</td>\n",
       "      <td>5</td>\n",
       "    </tr>\n",
       "    <tr>\n",
       "      <th>...</th>\n",
       "      <td>...</td>\n",
       "      <td>...</td>\n",
       "    </tr>\n",
       "    <tr>\n",
       "      <th>3157</th>\n",
       "      <td>3157</td>\n",
       "      <td>2</td>\n",
       "    </tr>\n",
       "    <tr>\n",
       "      <th>3158</th>\n",
       "      <td>3158</td>\n",
       "      <td>2</td>\n",
       "    </tr>\n",
       "    <tr>\n",
       "      <th>3159</th>\n",
       "      <td>3159</td>\n",
       "      <td>2</td>\n",
       "    </tr>\n",
       "    <tr>\n",
       "      <th>3160</th>\n",
       "      <td>3160</td>\n",
       "      <td>2</td>\n",
       "    </tr>\n",
       "    <tr>\n",
       "      <th>3161</th>\n",
       "      <td>3161</td>\n",
       "      <td>2</td>\n",
       "    </tr>\n",
       "  </tbody>\n",
       "</table>\n",
       "<p>3162 rows × 2 columns</p>\n",
       "</div>"
      ],
      "text/plain": [
       "      Unnamed: 0  activity\n",
       "0              0         5\n",
       "1              1         5\n",
       "2              2         5\n",
       "3              3         5\n",
       "4              4         5\n",
       "...          ...       ...\n",
       "3157        3157         2\n",
       "3158        3158         2\n",
       "3159        3159         2\n",
       "3160        3160         2\n",
       "3161        3161         2\n",
       "\n",
       "[3162 rows x 2 columns]"
      ]
     },
     "execution_count": 7,
     "metadata": {},
     "output_type": "execute_result"
    }
   ],
   "source": [
    "y_test = pd.read_csv('test_Y.csv')\n",
    "y_test"
   ]
  },
  {
   "cell_type": "code",
   "execution_count": 10,
   "id": "2b29eb73",
   "metadata": {},
   "outputs": [],
   "source": [
    "# PCA dla całego zbioru treningowego\n",
    "\n",
    "from sklearn.decomposition import PCA\n",
    "from sklearn.preprocessing import scale \n",
    "from sklearn.preprocessing import StandardScaler\n",
    "from sklearn.metrics import confusion_matrix, accuracy_score, classification_report\n",
    "\n",
    "#normalizacja\n",
    "df = StandardScaler().fit_transform(x_train)\n",
    "\n",
    "pca = PCA()\n",
    "X_pca_train = pca.fit_transform(df)"
   ]
  },
  {
   "cell_type": "code",
   "execution_count": 11,
   "id": "e4452a9e",
   "metadata": {},
   "outputs": [
    {
     "data": {
      "text/plain": [
       "array([0.48147493, 0.08088558, 0.03190356, 0.02433187, 0.01807353,\n",
       "       0.01740658, 0.01366546, 0.01276691, 0.01141915, 0.00968529])"
      ]
     },
     "execution_count": 11,
     "metadata": {},
     "output_type": "execute_result"
    }
   ],
   "source": [
    "pca.explained_variance_ratio_[:10]"
   ]
  },
  {
   "cell_type": "code",
   "execution_count": 12,
   "id": "7aef1d8e",
   "metadata": {},
   "outputs": [
    {
     "name": "stdout",
     "output_type": "stream",
     "text": [
      "[48.15 56.24 59.43 61.86 63.67 65.41 66.78 68.06 69.2  70.17 71.06 71.88\n",
      " 72.66 73.35 74.01 74.63 75.24 75.83 76.4  76.94 77.47 77.98 78.47 78.94\n",
      " 79.4  79.85 80.27 80.69 81.09 81.47 81.85 82.21 82.56 82.91 83.25 83.58\n",
      " 83.89 84.2  84.5  84.78 85.06 85.33 85.6  85.86 86.11 86.35 86.59 86.82\n",
      " 87.04 87.26 87.48 87.7  87.91 88.12 88.32 88.52 88.71 88.9  89.09 89.28\n",
      " 89.46 89.64 89.82 89.99 90.16 90.33 90.49 90.65 90.81 90.97 91.13 91.29\n",
      " 91.44 91.59 91.73 91.87 92.01 92.15 92.28 92.41 92.54 92.67 92.8  92.92\n",
      " 93.04 93.16 93.28 93.4  93.52 93.63 93.74 93.85 93.96 94.07 94.18 94.28\n",
      " 94.38 94.48 94.58 94.68 94.78 94.87 94.96 95.05 95.14 95.23 95.32 95.41\n",
      " 95.49 95.57 95.65 95.73 95.81 95.89 95.97 96.04 96.11 96.18 96.25 96.32\n",
      " 96.39 96.46 96.53 96.6  96.66 96.72 96.78 96.84 96.9  96.96 97.02 97.08\n",
      " 97.14 97.19 97.24 97.29 97.34 97.39 97.44 97.49 97.54 97.59 97.64 97.69\n",
      " 97.74 97.79 97.83 97.87 97.91 97.95 97.99 98.03 98.07 98.11 98.15 98.19\n",
      " 98.23 98.27 98.31 98.35 98.39 98.43 98.47 98.5  98.53 98.56 98.59 98.62\n",
      " 98.65 98.68 98.71 98.74 98.77 98.8  98.83 98.85 98.87 98.89 98.91 98.93\n",
      " 98.95 98.97 98.99 99.01 99.03 99.05 99.07 99.09 99.11 99.13 99.15 99.17\n",
      " 99.19 99.21 99.23 99.25 99.27 99.28 99.29 99.3  99.31 99.32 99.33 99.34\n",
      " 99.35 99.36 99.37 99.38 99.39 99.4  99.41 99.42 99.43 99.44 99.45 99.46\n",
      " 99.47 99.48 99.49 99.5  99.51 99.52 99.53 99.54 99.55 99.56 99.57 99.58\n",
      " 99.59 99.6  99.61 99.62 99.63 99.64 99.65 99.66 99.67 99.68 99.69 99.7\n",
      " 99.71 99.72 99.73 99.74 99.75 99.76 99.77 99.78 99.79 99.8  99.81 99.82\n",
      " 99.83 99.83 99.83 99.83 99.83 99.83 99.83 99.83 99.83 99.83 99.83 99.83\n",
      " 99.83 99.83 99.83 99.83 99.83 99.83 99.83 99.83 99.83 99.83 99.83 99.83\n",
      " 99.83 99.83 99.83 99.83 99.83 99.83 99.83 99.83 99.83 99.83 99.83 99.83\n",
      " 99.83 99.83 99.83 99.83 99.83 99.83 99.83 99.83 99.83 99.83 99.83 99.83\n",
      " 99.83 99.83 99.83 99.83 99.83 99.83 99.83 99.83 99.83 99.83 99.83 99.83\n",
      " 99.83 99.83 99.83 99.83 99.83 99.83 99.83 99.83 99.83 99.83 99.83 99.83\n",
      " 99.83 99.83 99.83 99.83 99.83 99.83 99.83 99.83 99.83 99.83 99.83 99.83\n",
      " 99.83 99.83 99.83 99.83 99.83 99.83 99.83 99.83 99.83 99.83 99.83 99.83\n",
      " 99.83 99.83 99.83 99.83 99.83 99.83 99.83 99.83 99.83 99.83 99.83 99.83\n",
      " 99.83 99.83 99.83 99.83 99.83 99.83 99.83 99.83 99.83 99.83 99.83 99.83\n",
      " 99.83 99.83 99.83 99.83 99.83 99.83 99.83 99.83 99.83 99.83 99.83 99.83\n",
      " 99.83 99.83 99.83 99.83 99.83 99.83 99.83 99.83 99.83 99.83 99.83 99.83\n",
      " 99.83 99.83 99.83 99.83 99.83 99.83 99.83 99.83 99.83 99.83 99.83 99.83\n",
      " 99.83 99.83 99.83 99.83 99.83 99.83 99.83 99.83 99.83 99.83 99.83 99.83\n",
      " 99.83 99.83 99.83 99.83 99.83 99.83 99.83 99.83 99.83 99.83 99.83 99.83\n",
      " 99.83 99.83 99.83 99.83 99.83 99.83 99.83 99.83 99.83 99.83 99.83 99.83\n",
      " 99.83 99.83 99.83 99.83 99.83 99.83 99.83 99.83 99.83 99.83 99.83 99.83\n",
      " 99.83 99.83 99.83 99.83 99.83 99.83 99.83 99.83 99.83 99.83 99.83 99.83\n",
      " 99.83 99.83 99.83 99.83 99.83 99.83 99.83 99.83 99.83 99.83 99.83 99.83\n",
      " 99.83 99.83 99.83 99.83 99.83 99.83 99.83 99.83 99.83 99.83 99.83 99.83\n",
      " 99.83 99.83 99.83 99.83 99.83 99.83 99.83 99.83 99.83 99.83 99.83 99.83\n",
      " 99.83 99.83 99.83 99.83 99.83 99.83 99.83 99.83 99.83 99.83 99.83 99.83\n",
      " 99.83 99.83 99.83 99.83 99.83 99.83 99.83 99.83 99.83 99.83 99.83 99.83\n",
      " 99.83 99.83 99.83 99.83 99.83 99.83 99.83 99.83 99.83 99.83 99.83 99.83\n",
      " 99.83 99.83 99.83 99.83 99.83 99.83 99.83 99.83 99.83 99.83 99.83 99.83\n",
      " 99.83 99.83 99.83 99.83 99.83 99.83 99.83 99.83 99.83 99.83]\n"
     ]
    }
   ],
   "source": [
    "import numpy as np\n",
    "represent=np.cumsum(np.round(pca.explained_variance_ratio_, decimals = 4)*100)\n",
    "print(represent)"
   ]
  },
  {
   "cell_type": "code",
   "execution_count": 13,
   "id": "cfc12ec5",
   "metadata": {},
   "outputs": [],
   "source": [
    "# PCA dla zbioru testowego\n",
    "df_test = StandardScaler().fit_transform(x_test)\n",
    "\n",
    "pca_test = PCA()\n",
    "X_pca_test = pca_test.fit_transform(df_test)\n",
    "\n"
   ]
  },
  {
   "cell_type": "code",
   "execution_count": 14,
   "id": "679282b2",
   "metadata": {},
   "outputs": [
    {
     "name": "stdout",
     "output_type": "stream",
     "text": [
      "[47.96 55.42 58.34 60.82 62.74 64.47 65.82 67.12 68.27 69.28 70.23 71.08\n",
      " 71.92 72.72 73.43 74.1  74.75 75.38 75.98 76.55 77.11 77.66 78.2  78.7\n",
      " 79.19 79.66 80.1  80.54 80.97 81.37 81.76 82.14 82.5  82.85 83.2  83.54\n",
      " 83.87 84.19 84.51 84.82 85.12 85.41 85.69 85.96 86.22 86.48 86.73 86.97\n",
      " 87.21 87.44 87.66 87.88 88.1  88.31 88.52 88.73 88.93 89.13 89.33 89.52\n",
      " 89.71 89.89 90.07 90.25 90.42 90.59 90.76 90.92 91.08 91.24 91.4  91.56\n",
      " 91.71 91.86 92.   92.14 92.28 92.42 92.56 92.69 92.82 92.95 93.08 93.2\n",
      " 93.32 93.44 93.56 93.67 93.78 93.89 94.   94.1  94.2  94.3  94.4  94.5\n",
      " 94.6  94.7  94.8  94.89 94.98 95.07 95.16 95.25 95.34 95.43 95.51 95.59\n",
      " 95.67 95.75 95.83 95.91 95.99 96.06 96.13 96.2  96.27 96.34 96.41 96.48\n",
      " 96.55 96.61 96.67 96.73 96.79 96.85 96.91 96.97 97.03 97.09 97.15 97.21\n",
      " 97.26 97.31 97.36 97.41 97.46 97.51 97.56 97.61 97.66 97.71 97.76 97.8\n",
      " 97.84 97.88 97.92 97.96 98.   98.04 98.08 98.12 98.16 98.2  98.24 98.28\n",
      " 98.32 98.36 98.4  98.43 98.46 98.49 98.52 98.55 98.58 98.61 98.64 98.67\n",
      " 98.7  98.73 98.76 98.79 98.82 98.85 98.87 98.89 98.91 98.93 98.95 98.97\n",
      " 98.99 99.01 99.03 99.05 99.07 99.09 99.11 99.13 99.15 99.17 99.19 99.21\n",
      " 99.23 99.25 99.27 99.29 99.3  99.31 99.32 99.33 99.34 99.35 99.36 99.37\n",
      " 99.38 99.39 99.4  99.41 99.42 99.43 99.44 99.45 99.46 99.47 99.48 99.49\n",
      " 99.5  99.51 99.52 99.53 99.54 99.55 99.56 99.57 99.58 99.59 99.6  99.61\n",
      " 99.62 99.63 99.64 99.65 99.66 99.67 99.68 99.69 99.7  99.71 99.72 99.73\n",
      " 99.74 99.75 99.76 99.77 99.78 99.79 99.8  99.81 99.82 99.83 99.83 99.83\n",
      " 99.83 99.83 99.83 99.83 99.83 99.83 99.83 99.83 99.83 99.83 99.83 99.83\n",
      " 99.83 99.83 99.83 99.83 99.83 99.83 99.83 99.83 99.83 99.83 99.83 99.83\n",
      " 99.83 99.83 99.83 99.83 99.83 99.83 99.83 99.83 99.83 99.83 99.83 99.83\n",
      " 99.83 99.83 99.83 99.83 99.83 99.83 99.83 99.83 99.83 99.83 99.83 99.83\n",
      " 99.83 99.83 99.83 99.83 99.83 99.83 99.83 99.83 99.83 99.83 99.83 99.83\n",
      " 99.83 99.83 99.83 99.83 99.83 99.83 99.83 99.83 99.83 99.83 99.83 99.83\n",
      " 99.83 99.83 99.83 99.83 99.83 99.83 99.83 99.83 99.83 99.83 99.83 99.83\n",
      " 99.83 99.83 99.83 99.83 99.83 99.83 99.83 99.83 99.83 99.83 99.83 99.83\n",
      " 99.83 99.83 99.83 99.83 99.83 99.83 99.83 99.83 99.83 99.83 99.83 99.83\n",
      " 99.83 99.83 99.83 99.83 99.83 99.83 99.83 99.83 99.83 99.83 99.83 99.83\n",
      " 99.83 99.83 99.83 99.83 99.83 99.83 99.83 99.83 99.83 99.83 99.83 99.83\n",
      " 99.83 99.83 99.83 99.83 99.83 99.83 99.83 99.83 99.83 99.83 99.83 99.83\n",
      " 99.83 99.83 99.83 99.83 99.83 99.83 99.83 99.83 99.83 99.83 99.83 99.83\n",
      " 99.83 99.83 99.83 99.83 99.83 99.83 99.83 99.83 99.83 99.83 99.83 99.83\n",
      " 99.83 99.83 99.83 99.83 99.83 99.83 99.83 99.83 99.83 99.83 99.83 99.83\n",
      " 99.83 99.83 99.83 99.83 99.83 99.83 99.83 99.83 99.83 99.83 99.83 99.83\n",
      " 99.83 99.83 99.83 99.83 99.83 99.83 99.83 99.83 99.83 99.83 99.83 99.83\n",
      " 99.83 99.83 99.83 99.83 99.83 99.83 99.83 99.83 99.83 99.83 99.83 99.83\n",
      " 99.83 99.83 99.83 99.83 99.83 99.83 99.83 99.83 99.83 99.83 99.83 99.83\n",
      " 99.83 99.83 99.83 99.83 99.83 99.83 99.83 99.83 99.83 99.83 99.83 99.83\n",
      " 99.83 99.83 99.83 99.83 99.83 99.83 99.83 99.83 99.83 99.83 99.83 99.83\n",
      " 99.83 99.83 99.83 99.83 99.83 99.83 99.83 99.83 99.83 99.83 99.83 99.83\n",
      " 99.83 99.83 99.83 99.83 99.83 99.83 99.83 99.83 99.83 99.83 99.83 99.83\n",
      " 99.83 99.83 99.83 99.83 99.83 99.83 99.83 99.83 99.83 99.83 99.83 99.83\n",
      " 99.83 99.83 99.83 99.83 99.83 99.83 99.83 99.83 99.83 99.83 99.83 99.83\n",
      " 99.83 99.83 99.83 99.83 99.83 99.83 99.83 99.83 99.83 99.83]\n"
     ]
    }
   ],
   "source": [
    "represent=np.cumsum(np.round(pca_test.explained_variance_ratio_, decimals = 4)*100)\n",
    "print(represent)\n",
    "\n"
   ]
  },
  {
   "cell_type": "code",
   "execution_count": 16,
   "id": "3d821cc3",
   "metadata": {},
   "outputs": [],
   "source": [
    "df=x_train"
   ]
  },
  {
   "cell_type": "code",
   "execution_count": 17,
   "id": "5b9d0967",
   "metadata": {},
   "outputs": [],
   "source": [
    "from sklearn.decomposition import PCA\n",
    "pca = PCA()\n",
    "X= pca.fit_transform(df)"
   ]
  },
  {
   "cell_type": "code",
   "execution_count": 18,
   "id": "d136cc00",
   "metadata": {},
   "outputs": [
    {
     "name": "stdout",
     "output_type": "stream",
     "text": [
      "[100. 100. 100. 100. 100. 100. 100. 100. 100. 100. 100. 100. 100. 100.\n",
      " 100. 100. 100. 100. 100. 100. 100. 100. 100. 100. 100. 100. 100. 100.\n",
      " 100. 100. 100. 100. 100. 100. 100. 100. 100. 100. 100. 100. 100. 100.\n",
      " 100. 100. 100. 100. 100. 100. 100. 100. 100. 100. 100. 100. 100. 100.\n",
      " 100. 100. 100. 100. 100. 100. 100. 100. 100. 100. 100. 100. 100. 100.\n",
      " 100. 100. 100. 100. 100. 100. 100. 100. 100. 100. 100. 100. 100. 100.\n",
      " 100. 100. 100. 100. 100. 100. 100. 100. 100. 100. 100. 100. 100. 100.\n",
      " 100. 100. 100. 100. 100. 100. 100. 100. 100. 100. 100. 100. 100. 100.\n",
      " 100. 100. 100. 100. 100. 100. 100. 100. 100. 100. 100. 100. 100. 100.\n",
      " 100. 100. 100. 100. 100. 100. 100. 100. 100. 100. 100. 100. 100. 100.\n",
      " 100. 100. 100. 100. 100. 100. 100. 100. 100. 100. 100. 100. 100. 100.\n",
      " 100. 100. 100. 100. 100. 100. 100. 100. 100. 100. 100. 100. 100. 100.\n",
      " 100. 100. 100. 100. 100. 100. 100. 100. 100. 100. 100. 100. 100. 100.\n",
      " 100. 100. 100. 100. 100. 100. 100. 100. 100. 100. 100. 100. 100. 100.\n",
      " 100. 100. 100. 100. 100. 100. 100. 100. 100. 100. 100. 100. 100. 100.\n",
      " 100. 100. 100. 100. 100. 100. 100. 100. 100. 100. 100. 100. 100. 100.\n",
      " 100. 100. 100. 100. 100. 100. 100. 100. 100. 100. 100. 100. 100. 100.\n",
      " 100. 100. 100. 100. 100. 100. 100. 100. 100. 100. 100. 100. 100. 100.\n",
      " 100. 100. 100. 100. 100. 100. 100. 100. 100. 100. 100. 100. 100. 100.\n",
      " 100. 100. 100. 100. 100. 100. 100. 100. 100. 100. 100. 100. 100. 100.\n",
      " 100. 100. 100. 100. 100. 100. 100. 100. 100. 100. 100. 100. 100. 100.\n",
      " 100. 100. 100. 100. 100. 100. 100. 100. 100. 100. 100. 100. 100. 100.\n",
      " 100. 100. 100. 100. 100. 100. 100. 100. 100. 100. 100. 100. 100. 100.\n",
      " 100. 100. 100. 100. 100. 100. 100. 100. 100. 100. 100. 100. 100. 100.\n",
      " 100. 100. 100. 100. 100. 100. 100. 100. 100. 100. 100. 100. 100. 100.\n",
      " 100. 100. 100. 100. 100. 100. 100. 100. 100. 100. 100. 100. 100. 100.\n",
      " 100. 100. 100. 100. 100. 100. 100. 100. 100. 100. 100. 100. 100. 100.\n",
      " 100. 100. 100. 100. 100. 100. 100. 100. 100. 100. 100. 100. 100. 100.\n",
      " 100. 100. 100. 100. 100. 100. 100. 100. 100. 100. 100. 100. 100. 100.\n",
      " 100. 100. 100. 100. 100. 100. 100. 100. 100. 100. 100. 100. 100. 100.\n",
      " 100. 100. 100. 100. 100. 100. 100. 100. 100. 100. 100. 100. 100. 100.\n",
      " 100. 100. 100. 100. 100. 100. 100. 100. 100. 100. 100. 100. 100. 100.\n",
      " 100. 100. 100. 100. 100. 100. 100. 100. 100. 100. 100. 100. 100. 100.\n",
      " 100. 100. 100. 100. 100. 100. 100. 100. 100. 100. 100. 100. 100. 100.\n",
      " 100. 100. 100. 100. 100. 100. 100. 100. 100. 100. 100. 100. 100. 100.\n",
      " 100. 100. 100. 100. 100. 100. 100. 100. 100. 100. 100. 100. 100. 100.\n",
      " 100. 100. 100. 100. 100. 100. 100. 100. 100. 100. 100. 100. 100. 100.\n",
      " 100. 100. 100. 100. 100. 100. 100. 100. 100. 100. 100. 100. 100. 100.\n",
      " 100. 100. 100. 100. 100. 100. 100. 100. 100. 100. 100. 100. 100. 100.\n",
      " 100. 100. 100. 100. 100. 100. 100. 100. 100. 100. 100. 100. 100. 100.\n",
      " 100. 100.]\n"
     ]
    }
   ],
   "source": []
  },
  {
   "cell_type": "code",
   "execution_count": 19,
   "id": "911ad414",
   "metadata": {},
   "outputs": [
    {
     "data": {
      "text/plain": [
       "array([2, 2, 2, ..., 0, 0, 0])"
      ]
     },
     "execution_count": 19,
     "metadata": {},
     "output_type": "execute_result"
    }
   ],
   "source": [
    "from sklearn.cluster import KMeans\n",
    "kmeans = KMeans(n_clusters = 4)\n",
    "kmeans\n",
    "k_fit = kmeans.fit(X)\n",
    "k_fit.n_clusters\n",
    "k_fit.cluster_centers_\n",
    "k_fit.labels_\n",
    "\n"
   ]
  },
  {
   "cell_type": "code",
   "execution_count": 20,
   "id": "f018b300",
   "metadata": {},
   "outputs": [],
   "source": [
    "kmeans = KMeans(n_clusters = 2)\n",
    "k_fit = kmeans.fit(X)\n",
    "kumeler = k_fit.labels_\n",
    "\n"
   ]
  },
  {
   "cell_type": "code",
   "execution_count": 21,
   "id": "d70828c1",
   "metadata": {},
   "outputs": [
    {
     "data": {
      "image/png": "[encoded data removed]",
      "text/plain": [
       "<Figure size 432x288 with 1 Axes>"
      ]
     },
     "metadata": {
      "needs_background": "light"
     },
     "output_type": "display_data"
    }
   ],
   "source": [
    "plt.scatter(X[:,0], X[:,1], c = kumeler, s = 50, cmap = \"viridis\")\n",
    "\n",
    "merkezler = k_fit.cluster_centers_\n",
    "\n",
    "plt.scatter(merkezler[:,0], merkezler[:,1], c = \"black\", s = 200, alpha = 0.5);\n",
    "\n"
   ]
  },
  {
   "cell_type": "markdown",
   "id": "be37606c",
   "metadata": {},
   "source": [
    "# KMeans, K-fold i KNN"
   ]
  },
  {
   "cell_type": "markdown",
   "id": "f65ba239",
   "metadata": {},
   "source": [
    "Algorytm K-means\n",
    "\n",
    "    + Jest prostym algorytmem do podziału danych\n",
    "    + Nadaje się do przeskalowanych danych, które są ułożone w zwartą formę\n",
    "    + Słabo działa w przypadku nieprzeskalowanych danych lub danych sferycznych\n",
    "    \n",
    "  \n",
    " Algorytm DBSCAN\n",
    " \n",
    "     + dla każdego elementu zbioru algorytm liczy elementy w sąsiedztwie epsylonowym gdzie $\\epsilon$ jest hiperparametrem\n",
    "     + nie ma metody predict\n",
    "     + działa dobrze na danych gęsto rozmieszczonych z wyraźną separacją między klastrami\n",
    "     + pozwala odsiać anomalie\n",
    "     \n",
    " KNN\n",
    " \n",
    "     + losowanie k punktów startowych (\"centroidów\")\n",
    "     + przyporządkowanie wszystkich obserwacji do najbliższego centroidu - wg odległości euklidesowej\n",
    "     + wyznaczenie nowego centroidu dla każdej z grup\n",
    "     + małe k --> mniejsze obciążenie i większą wariancję estymatora\n",
    "     + duże k --> większe obciążenie i mniejszą wariancję estymatora\n",
    "     + najlepiej stosować na przeskalowanych danych i dla k nieprzystego\n",
    "     + zalety: szybkość i dobre wyniki dla większości problemów\n",
    "     + wady: konieczność podania liczby grup, wrażliwość na dobóe punktów startowych, wrażliwość na odberwacje odstające\n",
    "\n",
    "\n"
   ]
  },
  {
   "cell_type": "code",
   "execution_count": null,
   "id": "b91a9d9d",
   "metadata": {},
   "outputs": [],
   "source": []
  }
 ],
 "metadata": {
  "kernelspec": {
   "display_name": "Python 3 (ipykernel)",
   "language": "python",
   "name": "python3"
  },
  "language_info": {
   "codemirror_mode": {
    "name": "ipython",
    "version": 3
   },
   "file_extension": ".py",
   "mimetype": "text/x-python",
   "name": "python",
   "nbconvert_exporter": "python",
   "pygments_lexer": "ipython3",
   "version": "3.9.12"
  }
 },
 "nbformat": 4,
 "nbformat_minor": 5
}
